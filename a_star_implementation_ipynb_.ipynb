{
  "cells": [
    {
      "cell_type": "code",
      "source": [
        "## Полезная библиотека для решения\n",
        "%pip install HeapDict\n",
        "import heapdict\n",
        "import numpy as np"
      ],
      "metadata": {
        "id": "i2Fm39EO4YL0",
        "colab": {
          "base_uri": "https://localhost:8080/"
        },
        "outputId": "3838f41d-1b81-4134-9630-5f547e9c07b2"
      },
      "execution_count": null,
      "outputs": [
        {
          "output_type": "stream",
          "name": "stdout",
          "text": [
            "Collecting HeapDict\n",
            "  Downloading HeapDict-1.0.1-py3-none-any.whl.metadata (1.9 kB)\n",
            "Downloading HeapDict-1.0.1-py3-none-any.whl (3.9 kB)\n",
            "Installing collected packages: HeapDict\n",
            "Successfully installed HeapDict-1.0.1\n"
          ]
        }
      ]
    },
    {
      "cell_type": "code",
      "execution_count": null,
      "metadata": {
        "id": "XkDg2EEIwLnZ"
      },
      "outputs": [],
      "source": [
        "def heuristic_misplaced(state):\n",
        "    \"\"\"\n",
        "    Количество неправильно расположенных костяшек.\n",
        "    Пустое пространство не является костяшкой и не должно\n",
        "    не учитывается при подсчете неправильно размещенных костяшек.\n",
        "\n",
        "    :param state: Tuple, представляющий текущее состояние игры.\n",
        "    :return: Количество неправильно расположенных костяшек.\n",
        "    \"\"\"\n",
        "\n",
        "    return sum([(elem != (i + 1)) and (elem != 0) for i, elem in enumerate(state)])"
      ]
    },
    {
      "cell_type": "code",
      "source": [
        "def test_heuristic_misplaced():\n",
        "    res = []\n",
        "    test_cases = [\n",
        "    ((1, 2, 3, 4, 0, 6, 7, 5, 8), 2),\n",
        "    ((1, 2, 3, 4, 5, 6, 7, 8, 0), 0),\n",
        "    ((1, 2, 3, 4, 5, 6, 7, 0, 8), 1),\n",
        "    ((1, 2, 3, 4, 5, 6, 0, 7, 8), 2),\n",
        "    ((1, 2, 3, 4, 0, 5, 7, 8, 6), 2),\n",
        "]\n",
        "\n",
        "\n",
        "\n",
        "    for i, (state, expected_value) in enumerate(test_cases):\n",
        "        actual_value = heuristic_misplaced(state)\n",
        "        assert actual_value == expected_value, f\"Тест для расположения {state} завершился ошибкой: \" \\\n",
        "                                               f\"функия heuristic_misplaced вернула значение {actual_value}, \" \\\n",
        "                                               f\"ожидаемое значение: {expected_value}\"\n",
        "\n",
        "    print(\"Все тесты для heuristic_misplaced завершились успешно!\")\n",
        "\n",
        "test_heuristic_misplaced()"
      ],
      "metadata": {
        "id": "gqY3zK9OxqBZ",
        "colab": {
          "base_uri": "https://localhost:8080/"
        },
        "outputId": "6830e290-3b65-4b00-9962-e9153b4181c1"
      },
      "execution_count": null,
      "outputs": [
        {
          "output_type": "stream",
          "name": "stdout",
          "text": [
            "Все тесты для heuristic_misplaced завершились успешно!\n"
          ]
        }
      ]
    },
    {
      "cell_type": "code",
      "execution_count": null,
      "metadata": {
        "id": "CtcUzt29wLna"
      },
      "outputs": [],
      "source": [
        "def get_pos(i):\n",
        "    return np.array([i // 3, i % 3])  # To hava pos + pos functionality\n",
        "\n",
        "def get_index(pos):\n",
        "    return pos[0] * 3 + pos[1]\n",
        "\n",
        "def manhattan_distance(i, j):\n",
        "    return abs(i[0] - j[0]) + abs(i[1] - j[1])\n",
        "\n",
        "def heuristic_manhattan(state):\n",
        "    \"\"\"\n",
        "    Сумма манхэттенских расстояний от неправильно\n",
        "    расположенных костяшек до их правильного положения.\n",
        "\n",
        "    :param state: Tuple, представляющий текущее состояние игры.\n",
        "    :return: Сумма манхэттенских расстояний.\n",
        "    \"\"\"\n",
        "\n",
        "    ans = 0\n",
        "    for i, elem in enumerate(state):\n",
        "        if elem == 0:\n",
        "            continue\n",
        "\n",
        "        ans += manhattan_distance(get_pos(i), get_pos(elem - 1))\n",
        "\n",
        "    return ans"
      ]
    },
    {
      "cell_type": "code",
      "source": [
        "def test_heuristic_manhattan():\n",
        "    res = []\n",
        "    test_cases = [\n",
        "        ((1, 2, 3, 4, 0, 6, 7, 5, 8), 2),\n",
        "        ((1, 2, 3, 4, 5, 6, 7, 8, 0), 0),\n",
        "        ((1, 2, 3, 4, 5, 6, 0, 7, 8), 2),\n",
        "        ((1, 2, 3, 4, 6, 0, 7, 5, 8), 3),\n",
        "        ((1, 3, 0, 4, 2, 5, 7, 8, 6), 4)\n",
        "    ]\n",
        "\n",
        "    for state, expected_value in test_cases:\n",
        "        actual_value = heuristic_manhattan(state)\n",
        "        assert actual_value == expected_value, f\"Тест для расположения {state} завершился ошибкой: \" \\\n",
        "                                               f\"функия heuristic_manhattan вернула значение {actual_value}, \" \\\n",
        "                                               f\"ожидаемое значение: {expected_value}\"\n",
        "\n",
        "    print(\"Все тесты для heuristic_manhattan завершились успешно!\")\n",
        "\n",
        "test_heuristic_manhattan()"
      ],
      "metadata": {
        "id": "qGnkeCpC1sJm",
        "colab": {
          "base_uri": "https://localhost:8080/"
        },
        "outputId": "790f39d1-894d-45cb-fb9f-a0890f0d95a6"
      },
      "execution_count": null,
      "outputs": [
        {
          "output_type": "stream",
          "name": "stdout",
          "text": [
            "Все тесты для heuristic_manhattan завершились успешно!\n"
          ]
        }
      ]
    },
    {
      "cell_type": "code",
      "execution_count": null,
      "metadata": {
        "id": "OlTBz634wLnb"
      },
      "outputs": [],
      "source": [
        "def astar(init_state, heuristic):\n",
        "    \"\"\"\n",
        "    A^* implementation.\n",
        "\n",
        "    :param init_state: Tuple, представляющий текущее состояние игры.\n",
        "    :param heuristic: Функция эвристики\n",
        "    :return: Tuple, в котором:\n",
        "        Первый элемент - это строка, представляющая оптимальный путь.\n",
        "            Используйте символы 'r', 'l', 'u' и 'd' для обозначения\n",
        "            'right', 'left', 'up' и 'down' соответственно.\n",
        "        Второй элемент - это список, содержащий исследованные (expanded)\n",
        "        алгоритмом состояния в порядке их прохождения.\n",
        "    \"\"\"\n",
        "\n",
        "    moves = {\n",
        "        \"r\": [0, 1],\n",
        "        \"u\": [-1, 0],\n",
        "        \"l\": [0, -1],\n",
        "        \"d\": [1, 0]\n",
        "    }\n",
        "\n",
        "    # Test the puzzle for the ability to be solved\n",
        "    inversions = 0\n",
        "    for i, elem in enumerate(init_state):\n",
        "        inversions += sum([(init_state[j] != 0) and (elem > init_state[j]) for j in range(i + 1, len(init_state))])\n",
        "\n",
        "    if inversions % 2 != 0:\n",
        "        # print(\"Нерешаемый пазл\")\n",
        "        return None, []\n",
        "\n",
        "    steps = \"\"\n",
        "    states_visited = []\n",
        "    state_queue = heapdict.heapdict()\n",
        "    state_queue[steps] = (heuristic_manhattan(init_state), init_state)\n",
        "\n",
        "    while state_queue:\n",
        "        steps, state = state_queue.popitem()\n",
        "        state = state[1]\n",
        "        states_visited.append(state)\n",
        "        # print()\n",
        "        # print(\"  \", state[0:3])\n",
        "        # print(\"  \", state[3:6])\n",
        "        # print(\"  \", state[6:9])\n",
        "\n",
        "        if state == (1, 2, 3, 4, 5, 6, 7, 8, 0):\n",
        "            break\n",
        "\n",
        "        for move_id, move in enumerate(['r', 'l', 'u', 'd']):\n",
        "            swap_pos = get_pos(state.index(0)) + np.array(moves[move])\n",
        "            if np.all((swap_pos >= 0) & (swap_pos < 3)):  # Check that it is a valid move\n",
        "                state_list = list(state)\n",
        "\n",
        "                state_list[state.index(0)], state_list[get_index(swap_pos)] = state_list[get_index(swap_pos)], state_list[state.index(0)]\n",
        "                new_state = tuple(state_list)\n",
        "\n",
        "                if new_state not in states_visited:\n",
        "                    state_queue[steps + move] = (len(steps) + heuristic(new_state), new_state)\n",
        "\n",
        "\n",
        "    return steps, states_visited"
      ]
    },
    {
      "cell_type": "code",
      "source": [
        "def test_astar(heuristic):\n",
        "    test_cases = [\n",
        "            ((1, 2, 3, 4, 5, 6, 7, 8, 0), \"\", [(1, 2, 3, 4, 5, 6, 7, 8, 0)]),\n",
        "            ((1, 2, 3, 4, 5, 6, 0, 7, 8), \"rr\", [(1, 2, 3, 4, 5, 6, 0, 7, 8),\n",
        "                                                (1, 2, 3, 4, 5, 6, 7, 0, 8),\n",
        "                                                (1, 2, 3, 4, 5, 6, 7, 8, 0)]),\n",
        "            ((1, 2, 3, 4, 6, 0, 7, 5, 8), \"ldr\", [(1, 2, 3, 4, 6, 0, 7, 5, 8),\n",
        "                                                (1, 2, 3, 4, 0, 6, 7, 5, 8),\n",
        "                                                (1, 2, 3, 4, 5, 6, 7, 0, 8),\n",
        "                                                (1, 2, 3, 4, 5, 6, 7, 8, 0)]),\n",
        "            ((1, 3, 0, 4, 2, 5, 7, 8, 6), \"ldrd\", [(1, 3, 0, 4, 2, 5, 7, 8, 6),\n",
        "                                                (1, 0, 3, 4, 2, 5, 7, 8, 6),\n",
        "                                                (1, 2, 3, 4, 0, 5, 7, 8, 6),\n",
        "                                                (1, 2, 3, 4, 5, 0, 7, 8, 6),\n",
        "                                                (1, 2, 3, 4, 5, 6, 7, 8, 0)]),\n",
        "        ]\n",
        "\n",
        "    for test in test_cases:\n",
        "        state, actual_path, actual_states = test[0], test[1], test[2]\n",
        "        path, states = astar(test[0], heuristic)\n",
        "        assert path == actual_path and states == actual_states, f\"Тест для расположения {state} завершился ошибкой: \" \\\n",
        "                                                                f\"astar вернула {path}, {states}, \" \\\n",
        "                                                                    f\"ожидаемые значения {actual_path, actual_states}\"\n",
        "    print(\"Все тесты для test_astar завершились успешно!\")\n",
        "\n",
        "test_astar(heuristic_misplaced)"
      ],
      "metadata": {
        "id": "CxMq1njV29_G",
        "colab": {
          "base_uri": "https://localhost:8080/"
        },
        "outputId": "8a351b38-48db-41fe-ec84-c87b3bf18d22"
      },
      "execution_count": null,
      "outputs": [
        {
          "output_type": "stream",
          "name": "stdout",
          "text": [
            "Все тесты для test_astar завершились успешно!\n"
          ]
        }
      ]
    },
    {
      "cell_type": "code",
      "source": [
        "import random\n",
        "\n",
        "\n",
        "def check_heuristics_difference():\n",
        "    lengths_misplaced = []\n",
        "    lengths_manhattan = []\n",
        "\n",
        "    test_id = 0\n",
        "    while True:\n",
        "        if test_id >= 10:\n",
        "            break\n",
        "\n",
        "        start_state = list(range(9))\n",
        "        random.shuffle(start_state)\n",
        "        start_state = tuple(start_state)\n",
        "\n",
        "        res_misplaced = astar(start_state, heuristic_misplaced)\n",
        "        res_manhattan = astar(start_state, heuristic_manhattan)\n",
        "\n",
        "        if res_misplaced[0] is not None:\n",
        "            lengths_misplaced.append(len(res_misplaced[1]))\n",
        "            lengths_manhattan.append(len(res_manhattan[1]))\n",
        "            print(f\"Тест {test_id + 1}:\", len(res_misplaced[1]), len(res_manhattan[1]))\n",
        "            test_id += 1\n",
        "\n",
        "    print()\n",
        "    print(\"Среднее по эвристике количества неправильно расположенных\", sum(lengths_misplaced) / len(lengths_misplaced))\n",
        "    print(\"Среднее по эвристике манхеттенских расстояний\", sum(lengths_manhattan) / len(lengths_manhattan))\n",
        "    return"
      ],
      "metadata": {
        "id": "aalzF4kg4A0B"
      },
      "execution_count": null,
      "outputs": []
    },
    {
      "cell_type": "code",
      "source": [
        "check_heuristics_difference()"
      ],
      "metadata": {
        "colab": {
          "base_uri": "https://localhost:8080/"
        },
        "id": "XLsKI_U0QsTT",
        "outputId": "661affaa-fd65-4414-d9e0-0401434b7fb6"
      },
      "execution_count": null,
      "outputs": [
        {
          "output_type": "stream",
          "name": "stdout",
          "text": [
            "Тест 0: 13980 852\n",
            "Тест 1: 19444 1242\n",
            "Тест 2: 4050 123\n",
            "Тест 3: 5071 274\n",
            "Тест 4: 5910 278\n",
            "Тест 5: 4938 756\n",
            "Тест 6: 16553 2553\n",
            "Тест 7: 1810 213\n",
            "Тест 8: 29740 1212\n",
            "Тест 9: 56149 1624\n",
            "\n",
            "Среднее по эвристике количества неправильно расположенных 15764.5\n",
            "Среднее по эвристике манхеттенских расстояний 912.7\n"
          ]
        }
      ]
    },
    {
      "cell_type": "markdown",
      "source": [
        "**Ввиду доминантности эвристики $L^1$-нормы над более простой эвристикой вида количества позиций, она показывает и более быструю сходимость на практике. Так и есть, манхеттенское расстояние более детально оценивает значение эвристики в текущем состоянии.**"
      ],
      "metadata": {
        "id": "zTFB6v8ef2rT"
      }
    }
  ],
  "metadata": {
    "kernelspec": {
      "display_name": "airbnb_venv",
      "language": "python",
      "name": "airbnb_venv"
    },
    "language_info": {
      "codemirror_mode": {
        "name": "ipython",
        "version": 3
      },
      "file_extension": ".py",
      "mimetype": "text/x-python",
      "name": "python",
      "nbconvert_exporter": "python",
      "pygments_lexer": "ipython3",
      "version": "3.9.7"
    },
    "colab": {
      "provenance": []
    }
  },
  "nbformat": 4,
  "nbformat_minor": 0
}